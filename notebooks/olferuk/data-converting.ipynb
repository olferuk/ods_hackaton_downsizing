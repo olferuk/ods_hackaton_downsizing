{
 "cells": [
  {
   "cell_type": "code",
   "execution_count": 1,
   "id": "a26c896e-4acb-4ebc-8211-bd79316b82bf",
   "metadata": {},
   "outputs": [],
   "source": [
    "import pandas as pd"
   ]
  },
  {
   "cell_type": "code",
   "execution_count": null,
   "id": "41d2c122-9d4d-4c39-834c-f56759a28775",
   "metadata": {},
   "outputs": [],
   "source": [
    "pd.read_"
   ]
  },
  {
   "cell_type": "code",
   "execution_count": null,
   "id": "ab0d80c3-f6a3-42df-b569-6a77cebce970",
   "metadata": {},
   "outputs": [],
   "source": []
  },
  {
   "cell_type": "code",
   "execution_count": null,
   "id": "e2dfae85-c8ea-4044-a8f5-d81882deb176",
   "metadata": {},
   "outputs": [],
   "source": []
  },
  {
   "cell_type": "code",
   "execution_count": null,
   "id": "b95cc1b7-1932-4d23-85d6-33b13497da29",
   "metadata": {},
   "outputs": [],
   "source": []
  },
  {
   "cell_type": "code",
   "execution_count": null,
   "id": "445852ff-6250-406f-a9b5-e3cfd66c1e5e",
   "metadata": {},
   "outputs": [],
   "source": []
  },
  {
   "cell_type": "code",
   "execution_count": null,
   "id": "123d6739-1c7c-4404-844a-5a574530a337",
   "metadata": {},
   "outputs": [],
   "source": []
  },
  {
   "cell_type": "code",
   "execution_count": null,
   "id": "273397fc-8957-4d20-b272-7fce134816a6",
   "metadata": {},
   "outputs": [],
   "source": []
  },
  {
   "cell_type": "code",
   "execution_count": null,
   "id": "93fa1587-384b-4530-8ed4-5946878d31d4",
   "metadata": {},
   "outputs": [],
   "source": []
  },
  {
   "cell_type": "code",
   "execution_count": null,
   "id": "b215e683-2186-4a8f-953a-5595b8a28299",
   "metadata": {},
   "outputs": [],
   "source": []
  },
  {
   "cell_type": "code",
   "execution_count": null,
   "id": "c4cc13d6-2098-4668-af4d-174a1a177e97",
   "metadata": {},
   "outputs": [],
   "source": []
  },
  {
   "cell_type": "code",
   "execution_count": 13,
   "id": "c882e868-9269-44a7-82a2-896e5e8b2305",
   "metadata": {},
   "outputs": [],
   "source": [
    "import pandas as pd\n",
    "from pathlib import Path"
   ]
  },
  {
   "cell_type": "raw",
   "id": "be8ecd97-7ddd-4f9d-9b7f-fb025a389f4e",
   "metadata": {},
   "source": [
    "!ln -s ../../data/ data\n",
    "!ln -s ../../src/ src"
   ]
  },
  {
   "cell_type": "code",
   "execution_count": 14,
   "id": "6bc8f6e0-c879-4c66-9c0a-2f5d9039a87b",
   "metadata": {},
   "outputs": [],
   "source": [
    "for path in sorted(Path('data').glob('*.xlsx')):\n",
    "    pd.read_excel(path).to_csv(f'data/{path.stem}.csv', index=False)"
   ]
  },
  {
   "cell_type": "code",
   "execution_count": 15,
   "id": "b939916f-b69e-44e4-80eb-7814722fa2b1",
   "metadata": {},
   "outputs": [],
   "source": [
    "!rm -rf data/*.xlsx"
   ]
  }
 ],
 "metadata": {
  "kernelspec": {
   "display_name": "platy-segmentation",
   "language": "python",
   "name": "platy-segmentation"
  },
  "language_info": {
   "codemirror_mode": {
    "name": "ipython",
    "version": 3
   },
   "file_extension": ".py",
   "mimetype": "text/x-python",
   "name": "python",
   "nbconvert_exporter": "python",
   "pygments_lexer": "ipython3",
   "version": "3.9.6"
  }
 },
 "nbformat": 4,
 "nbformat_minor": 5
}
