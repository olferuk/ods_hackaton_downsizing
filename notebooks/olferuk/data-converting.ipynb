{
 "cells": [
  {
   "cell_type": "code",
   "execution_count": 13,
   "id": "c882e868-9269-44a7-82a2-896e5e8b2305",
   "metadata": {},
   "outputs": [],
   "source": [
    "import pandas as pd\n",
    "from pathlib import Path"
   ]
  },
  {
   "cell_type": "raw",
   "id": "be8ecd97-7ddd-4f9d-9b7f-fb025a389f4e",
   "metadata": {},
   "source": [
    "!ln -s ../../data/ data\n",
    "!ln -s ../../src/ src"
   ]
  },
  {
   "cell_type": "code",
   "execution_count": 14,
   "id": "6bc8f6e0-c879-4c66-9c0a-2f5d9039a87b",
   "metadata": {},
   "outputs": [],
   "source": [
    "for path in sorted(Path('data').glob('*.xlsx')):\n",
    "    pd.read_excel(path).to_csv(f'data/{path.stem}.csv', index=False)"
   ]
  },
  {
   "cell_type": "code",
   "execution_count": 15,
   "id": "b939916f-b69e-44e4-80eb-7814722fa2b1",
   "metadata": {},
   "outputs": [],
   "source": [
    "!rm -rf data/*.xlsx"
   ]
  }
 ],
 "metadata": {
  "kernelspec": {
   "display_name": "platy-segmentation",
   "language": "python",
   "name": "platy-segmentation"
  },
  "language_info": {
   "codemirror_mode": {
    "name": "ipython",
    "version": 3
   },
   "file_extension": ".py",
   "mimetype": "text/x-python",
   "name": "python",
   "nbconvert_exporter": "python",
   "pygments_lexer": "ipython3",
   "version": "3.9.6"
  }
 },
 "nbformat": 4,
 "nbformat_minor": 5
}
