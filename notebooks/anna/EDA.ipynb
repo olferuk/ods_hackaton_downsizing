{
 "cells": [
  {
   "cell_type": "code",
   "execution_count": 1,
   "id": "153982eb-4034-4602-a5d2-2e1b5ed1e541",
   "metadata": {},
   "outputs": [],
   "source": [
    "import pandas as pd"
   ]
  },
  {
   "cell_type": "raw",
   "id": "46e0a640-9fc9-40c9-82d9-8f8d0500f1d0",
   "metadata": {},
   "source": [
    "!ln -s ../../src src\n",
    "!ln -s ../../data data"
   ]
  },
  {
   "cell_type": "code",
   "execution_count": 5,
   "id": "9d598046-603e-4fb7-900e-329aa30efa76",
   "metadata": {},
   "outputs": [],
   "source": [
    "from src.downsizing import *"
   ]
  },
  {
   "cell_type": "raw",
   "id": "e70a5a49-5df6-4918-9b9a-2c99936079aa",
   "metadata": {},
   "source": [
    "downsized(1)"
   ]
  },
  {
   "cell_type": "code",
   "execution_count": 8,
   "id": "f63acc61-95e8-4921-bfa3-cbb6f37a433d",
   "metadata": {},
   "outputs": [],
   "source": [
    "df = pd.read_csv('data/20-1.csv')"
   ]
  },
  {
   "cell_type": "code",
   "execution_count": 9,
   "id": "e22516ef-f614-4687-8937-323e6ab509b4",
   "metadata": {},
   "outputs": [
    {
     "data": {
      "text/plain": [
       "(158219, 14)"
      ]
     },
     "execution_count": 9,
     "metadata": {},
     "output_type": "execute_result"
    }
   ],
   "source": [
    "df.shape"
   ]
  },
  {
   "cell_type": "code",
   "execution_count": null,
   "id": "a0f7e512-2929-43a8-a68d-29465fb66b59",
   "metadata": {},
   "outputs": [],
   "source": []
  }
 ],
 "metadata": {
  "kernelspec": {
   "display_name": "platy-segmentation",
   "language": "python",
   "name": "platy-segmentation"
  },
  "language_info": {
   "codemirror_mode": {
    "name": "ipython",
    "version": 3
   },
   "file_extension": ".py",
   "mimetype": "text/x-python",
   "name": "python",
   "nbconvert_exporter": "python",
   "pygments_lexer": "ipython3",
   "version": "3.9.6"
  }
 },
 "nbformat": 4,
 "nbformat_minor": 5
}
